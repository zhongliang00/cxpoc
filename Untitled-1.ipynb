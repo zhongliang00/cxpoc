{
 "cells": [
  {
   "cell_type": "code",
   "execution_count": 6,
   "metadata": {},
   "outputs": [],
   "source": [
    "from openai import OpenAI\n",
    "from parse_messages import parse_messages\n",
    "from tools import tools, call_tool\n",
    "import json\n",
    "sop = open(\"SOP1.md\", 'r').read()\n",
    "client = OpenAI(\n",
    "    api_key='<your key>'\n",
    ")"
   ]
  },
  {
   "cell_type": "code",
   "execution_count": 7,
   "metadata": {},
   "outputs": [],
   "source": [
    "system_prompt = f\"\"\"\n",
    ":sys:\n",
    "You are a customer support chatbot for MetoA, the buy now pay later app.\n",
    "\n",
    "You will directly read customer messages and use the appropriate tools to best respond to the customer.\n",
    "\n",
    "If you have any missing information, feel free to ask it from the customer, using the reply_customer tool.\n",
    "\n",
    "You can also query our FAQs to get more information that you require.\n",
    "\n",
    "If you are unable to proceed, you may exit with error.\n",
    "\n",
    "If you are waiting for a response, please exit with \"Waiting for customer response\"\n",
    "\n",
    ":sys:\n",
    "{sop}\n",
    "\"\"\""
   ]
  },
  {
   "cell_type": "code",
   "execution_count": 8,
   "metadata": {},
   "outputs": [],
   "source": [
    "golden_msg_history = parse_messages(\"\"\"\n",
    ":user:\n",
    "Transaction unsuccessful\n",
    ":ai:\n",
    "Ok I'll need your order id\n",
    ":user:\n",
    "Where can I find that?\n",
    ":ai:\n",
    "In the MetoA App, go to Profile, and scroll down until you find Transactions.\n",
    "click on the transaction that has the issue and then copy the order ID\n",
    ":user:\n",
    "O12512085\n",
    ":ai:\n",
    "Your order did not go through beacuse you have triggered our fraud detection system. Please try again in 90 days.\n",
    "\"\"\")"
   ]
  },
  {
   "cell_type": "code",
   "execution_count": 4,
   "metadata": {},
   "outputs": [],
   "source": []
  },
  {
   "cell_type": "code",
   "execution_count": 9,
   "metadata": {},
   "outputs": [],
   "source": [
    "msg_history = []\n",
    "msg_history.extend(parse_messages(f\":sys: user email is {'lolol@gmail.com'}\"))\n",
    "msg_history.extend(parse_messages(\":user: transaction unsuccessful!!\"))\n",
    "\n",
    "MAX_DEPTH = 3\n",
    "\n",
    "def invoke_ai():\n",
    "    for i in range(MAX_DEPTH):\n",
    "        tool = client.chat.completions.create(\n",
    "            model='gpt-4o',\n",
    "            messages=parse_messages(system_prompt) + msg_history,\n",
    "            temperature=0,\n",
    "            tools=tools,\n",
    "            tool_choice=\"required\"\n",
    "        ).choices[0].message.tool_calls[0].function\n",
    "        print(tool.name, tool.arguments)\n",
    "\n",
    "        curr_len = len(msg_history)\n",
    "        call_tool(message_history=msg_history, function=tool)\n",
    "        new_len = len(msg_history)\n",
    "\n",
    "        if curr_len == new_len:\n",
    "            # probably nothing to do, exiting!\n",
    "            break"
   ]
  },
  {
   "cell_type": "code",
   "execution_count": 10,
   "metadata": {},
   "outputs": [
    {
     "name": "stdout",
     "output_type": "stream",
     "text": [
      "has_late_payments {\"email\":\"lolol@gmail.com\"}\n",
      "reply_customer {\"text\":\"Could you please provide the order ID for the transaction that was unsuccessful? This will help me look into the issue further.\"}\n",
      "exit {\"is_error\":false,\"reason\":\"Waiting for customer response\"}\n",
      "exiting! {'is_error': False, 'reason': 'Waiting for customer response'}\n"
     ]
    }
   ],
   "source": [
    "invoke_ai()"
   ]
  },
  {
   "cell_type": "code",
   "execution_count": 11,
   "metadata": {},
   "outputs": [
    {
     "name": "stdout",
     "output_type": "stream",
     "text": [
      "query_faq {\"question\":\"Where can I find my order ID?\"}\n",
      "reply_customer {\"text\":\"You can find the Order ID by going to the user tab in the app, scrolling down to find your orders, and then clicking on the relevant order to see the ID. Once you have it, please share it with me so I can assist you further.\"}\n",
      "exit {\"is_error\":false,\"reason\":\"Waiting for customer response\"}\n",
      "exiting! {'is_error': False, 'reason': 'Waiting for customer response'}\n"
     ]
    }
   ],
   "source": [
    "msg_history.extend(parse_messages(\":user: where can i find that?\"))\n",
    "invoke_ai()"
   ]
  },
  {
   "cell_type": "code",
   "execution_count": 12,
   "metadata": {},
   "outputs": [
    {
     "name": "stdout",
     "output_type": "stream",
     "text": [
      "lookup_order_id {\"order_id\":\"O12512085\"}\n",
      "reply_customer {\"text\":\"Your transaction was rejected due to a high risk of potential fraud. Unfortunately, this means you won't be able to retry this transaction for 90 days. Please ensure that your account details are up-to-date and secure. If you believe this is an error, you may want to contact our support team for further assistance.\"}\n",
      "exit {\"is_error\":false}\n",
      "exiting! {'is_error': False}\n"
     ]
    }
   ],
   "source": [
    "msg_history.extend(parse_messages(\":user: O12512085\"))\n",
    "invoke_ai()"
   ]
  },
  {
   "cell_type": "code",
   "execution_count": null,
   "metadata": {},
   "outputs": [],
   "source": []
  },
  {
   "cell_type": "code",
   "execution_count": null,
   "metadata": {},
   "outputs": [],
   "source": []
  }
 ],
 "metadata": {
  "kernelspec": {
   "display_name": ".venv",
   "language": "python",
   "name": "python3"
  },
  "language_info": {
   "codemirror_mode": {
    "name": "ipython",
    "version": 3
   },
   "file_extension": ".py",
   "mimetype": "text/x-python",
   "name": "python",
   "nbconvert_exporter": "python",
   "pygments_lexer": "ipython3",
   "version": "3.13.1"
  }
 },
 "nbformat": 4,
 "nbformat_minor": 2
}
